{
 "cells": [
  {
   "cell_type": "markdown",
   "metadata": {},
   "source": [
    "## Lecture 32 (optimization lecture 13): Matrix-Vector Representation of Image Operations\n",
    "\n",
    "Goal: to describe common image operations (transforms, filtering) as matrix-vector operations. One important skill in computational imaging applications is to be able to go back and forth between the matrix-vector formulations used in theory, and the image operations often implemented and visualized in practice. \n",
    "\n",
    "\n"
   ]
  },
  {
   "cell_type": "code",
   "execution_count": 1,
   "metadata": {},
   "outputs": [],
   "source": [
    "## MP 573 Lecture 32: Matrix-vector operations\n",
    "##\n",
    "%matplotlib inline\n",
    "import numpy as np\n",
    "import numpy.linalg as la\n",
    "import matplotlib.pyplot as plt\n",
    "from matplotlib import animation\n",
    "from IPython.display import display, Image\n",
    "import matplotlib.image as mpimg\n",
    "from os.path import dirname, join as pjoin\n",
    "from scipy import signal\n",
    "import scipy.io as sio\n",
    "import scipy.optimize as opt\n",
    "import numpy.random as rnd\n",
    "import skimage.transform as transform\n",
    "import skimage.data as data\n",
    "import scipy.sparse as sparse\n",
    "\n",
    "font = {'weight' : 'normal',\n",
    "        'size'   : 12}\n",
    "np.set_printoptions(precision=2)"
   ]
  },
  {
   "cell_type": "markdown",
   "metadata": {},
   "source": [
    "## DFT\n",
    "\n",
    "If we view the DFT operation as a matrix-vector operation, we can implement it by simply reshaping our vector into an image with the right dimensions, applying the (2D) DFT using an FFT algorithm, and reshaping the output back into a vector.\n",
    "\n",
    "Now, the question is how to implement the transpose of this operation (Hermitian transpose in the case of DFT since it is a complex-valued operation). However, for the case of the DFT, we know that this is an orthogonal operation where its transpose is its inverse (up to a scaling factor given by the size of the array). In other words, the transpose of the DFT matrix is the iDFT matrix (up to a scaling factor since the DFT matrix is not normalized)."
   ]
  },
  {
   "cell_type": "code",
   "execution_count": 3,
   "metadata": {},
   "outputs": [],
   "source": [
    "# Calculate y = F x\n",
    "x2 = data.shepp_logan_phantom()\n",
    "x2 = transform.rescale(x2, scale=0.4, mode='reflect')\n",
    "N1,N2 = x2.shape\n",
    "x = np.reshape(x2,(N1*N2,1)) # This is the vectorized image (column vector)\n",
    "y2 = np.fft.fftshift(np.fft.fft2(np.fft.ifftshift(x2)))\n",
    "y = np.reshape(y2,(N1*N2,1)) # This is the vectorized Fourier data (column vector)\n",
    "\n",
    "# Now z = F^T y\n",
    "z2 = np.fft.fftshift(np.fft.ifft2(np.fft.ifftshift(y2)))*N1*N2\n",
    "z = np.reshape(z2,(N1*N2,1)) # This is the vectorized image data (column vector)"
   ]
  },
  {
   "cell_type": "markdown",
   "metadata": {},
   "source": [
    "## Subsampling\n",
    "\n",
    "In our reconstructions, we often want to fit data acquired at a subset of the Fourier locations provided by the DFT. For instance, we may skip some lines or some locations within an $N \\times N$ Cartesian array. In this case, the forward matrix can be viewed as $\\mathbf{A} = \\mathbf{U} \\mathbf{F}$ where $\\mathbf{F}$ performs a 2D DFT, and $\\mathbf{U}$ is a diagonal matrix with all the rows corresponding to unsampled Fourier space entries removed. \n",
    "\n",
    "Implementing the effect of $\\mathbf{U}$  on a vectorized array is easy. Suppose we have a $N \\times N$ array and we have a binary 'mask' (call it 'M') that specifies which entries of the array we are actually sampling. Then we can simply select the corresponding entries specified by our binary mask M (ie: where M=True).\n",
    "\n",
    "The transpose of this operation is the zero-padding operation, where we take the input (of length the number of sampled entries), and add zeroes at the non-sampled entries."
   ]
  },
  {
   "cell_type": "code",
   "execution_count": 4,
   "metadata": {},
   "outputs": [],
   "source": [
    "# Subsampling operation described by an image-based mask M\n",
    "M = np.zeros((N1,N2),dtype=bool)\n",
    "M[60:100,60:100] = True\n",
    "y_sub = y[np.reshape(M,(N1*N2,1))]\n",
    "#plt.figure(figsize=(4,4))\n",
    "#plt.imshow(np.abs(M*y2))\n",
    "\n",
    "# Transpose of subsampling operation: zero-padding\n",
    "z = np.zeros((N1*N2,1),dtype='cfloat') \n",
    "z[np.reshape(M,(N1*N2,1))] = y_sub\n",
    "z2 = np.reshape(z,(N1,N2))"
   ]
  },
  {
   "cell_type": "markdown",
   "metadata": {},
   "source": [
    "## Radon transform\n",
    "\n",
    "Given an image and a set of projection angles, we can perform a radon transform (ie: projections along a set of angles), as implemented in Python. \n",
    "\n",
    "Importantly, the transpose of the radon transform is the (unfiltered) backprojection (including some additional scaling, as shown below)."
   ]
  },
  {
   "cell_type": "code",
   "execution_count": 6,
   "metadata": {},
   "outputs": [
    {
     "ename": "TypeError",
     "evalue": "iradon() got an unexpected keyword argument 'filter_name'",
     "output_type": "error",
     "traceback": [
      "\u001b[0;31m---------------------------------------------------------------------------\u001b[0m",
      "\u001b[0;31mTypeError\u001b[0m                                 Traceback (most recent call last)",
      "\u001b[0;32m<ipython-input-6-0930f5182789>\u001b[0m in \u001b[0;36m<module>\u001b[0;34m\u001b[0m\n\u001b[1;32m      6\u001b[0m \u001b[0;34m\u001b[0m\u001b[0m\n\u001b[1;32m      7\u001b[0m \u001b[0;31m# Transpose of Radon transform\u001b[0m\u001b[0;34m\u001b[0m\u001b[0;34m\u001b[0m\u001b[0;34m\u001b[0m\u001b[0m\n\u001b[0;32m----> 8\u001b[0;31m \u001b[0mz2\u001b[0m \u001b[0;34m=\u001b[0m \u001b[0;36m2\u001b[0m\u001b[0;34m*\u001b[0m\u001b[0mM2\u001b[0m\u001b[0;34m/\u001b[0m\u001b[0mnp\u001b[0m\u001b[0;34m.\u001b[0m\u001b[0mpi\u001b[0m\u001b[0;34m*\u001b[0m\u001b[0mtransform\u001b[0m\u001b[0;34m.\u001b[0m\u001b[0miradon\u001b[0m\u001b[0;34m(\u001b[0m\u001b[0my2\u001b[0m\u001b[0;34m,\u001b[0m \u001b[0mtheta\u001b[0m\u001b[0;34m=\u001b[0m\u001b[0mtheta\u001b[0m\u001b[0;34m,\u001b[0m \u001b[0mcircle\u001b[0m\u001b[0;34m=\u001b[0m\u001b[0;32mFalse\u001b[0m\u001b[0;34m,\u001b[0m\u001b[0mfilter_name\u001b[0m\u001b[0;34m=\u001b[0m\u001b[0;32mNone\u001b[0m\u001b[0;34m)\u001b[0m\u001b[0;34m\u001b[0m\u001b[0;34m\u001b[0m\u001b[0m\n\u001b[0m\u001b[1;32m      9\u001b[0m \u001b[0;34m\u001b[0m\u001b[0m\n\u001b[1;32m     10\u001b[0m \u001b[0;34m\u001b[0m\u001b[0m\n",
      "\u001b[0;31mTypeError\u001b[0m: iradon() got an unexpected keyword argument 'filter_name'"
     ]
    }
   ],
   "source": [
    "# Radon transform\n",
    "theta = np.linspace(0., 180., 180, endpoint=False)\n",
    "y2 = transform.radon(x2, theta=theta, circle=False)\n",
    "M1,M2 = y2.shape\n",
    "y = np.reshape(y2,(M1*M2,1))\n",
    "\n",
    "# Transpose of Radon transform\n",
    "z2 = 2*M2/np.pi*transform.iradon(y2, theta=theta, circle=False,filter_name=None)\n",
    "\n",
    "\n",
    "plt.figure(figsize=(4,4))\n",
    "plt.imshow(z2)"
   ]
  },
  {
   "cell_type": "markdown",
   "metadata": {},
   "source": [
    "## Filtering \n",
    "\n",
    "Oftentimes we want to implement a high pass filter as part of a regularization term (ie: $\\| \\mathbf{Dx} \\|_p$). Here are two alternative implementations of the filter and its transpose: i) based on image shifts and additions/subtractions, ii) based on creating a finite-difference taking matrix in 1D, and extending to 2D using the kronecker product (kron command). In this implementation, we keep the memory requirements in check by making our huge matrix sparse (a type of array allocation in Python, efficient for storing and operating with sparse arrays). "
   ]
  },
  {
   "cell_type": "code",
   "execution_count": 7,
   "metadata": {},
   "outputs": [],
   "source": [
    "# Implementation 1\n",
    "y2a = 4*x2 - np.roll(x2,1,axis=0) - np.roll(x2,-1,axis=0) - np.roll(x2,1,axis=1) - np.roll(x2,-1,axis=1)\n",
    "z2a = 4*y2 - np.roll(y2,1,axis=0) - np.roll(y2,-1,axis=0) - np.roll(y2,1,axis=1) - np.roll(y2,-1,axis=1)\n",
    "\n",
    "# Implementation 2\n",
    "N1,N2 = x2.shape\n",
    "I = np.eye(N1)\n",
    "D = 2*I - np.roll(I,-1,axis=1) - np.roll(I,1,axis=1)\n",
    "D = sparse.csr_matrix(D) \n",
    "I = sparse.eye(N1)\n",
    "D2 = sparse.kron(D,I) + sparse.kron(I,D)\n",
    "y = D2.dot(np.reshape(x2,(N1*N2,1)))\n",
    "y2b = np.reshape(y,(N1,N2))\n",
    "z = (D2.T).dot(y)\n",
    "z2b = np.reshape(z,(N1,N2))\n",
    "\n",
    "#plt.figure(figsize=(4,4))\n",
    "#plt.imshow(y2a);"
   ]
  },
  {
   "cell_type": "markdown",
   "metadata": {},
   "source": [
    "## Multiplication with a diagonal weighting matrix\n",
    "\n",
    "Multiplication with a diagonal matrix $\\mathbf{W}$ (ie: a square matrix where the only nonzero entries are along the diagonal) is needed frequently in image reconstruction and other algorithms. This operation is also particularly easy, since it reduces to a pointwise multiplication between two arrays (or vectors, or images, depending on how we have formatted them). If we want to calculate $\\mathbf{y} = \\mathbf{W} \\mathbf{x}$, where  $\\mathbf{W}$ is a diagonal matrix, then we can simply calculate each entry of $\\mathbf{y}$ as $y_n = W_{nn} x_n$."
   ]
  },
  {
   "cell_type": "code",
   "execution_count": 8,
   "metadata": {},
   "outputs": [],
   "source": [
    "# Set some random weights (diagonal of W)\n",
    "w = np.random.rand(N1,N2) \n",
    "\n",
    "# Multiply with diagonal weighting matrix W (pointwise multiplication with w)\n",
    "# Note python syntax is different from matlab (no \".*\" in python)\n",
    "y2 = w*x2\n",
    "\n",
    "# Transpose is the same operation (conjugate w if complex)\n",
    "z2 = w*y2"
   ]
  },
  {
   "cell_type": "code",
   "execution_count": null,
   "metadata": {},
   "outputs": [],
   "source": []
  }
 ],
 "metadata": {
  "kernelspec": {
   "display_name": "Python 3 (ipykernel)",
   "language": "python",
   "name": "python3"
  },
  "language_info": {
   "codemirror_mode": {
    "name": "ipython",
    "version": 3
   },
   "file_extension": ".py",
   "mimetype": "text/x-python",
   "name": "python",
   "nbconvert_exporter": "python",
   "pygments_lexer": "ipython3",
   "version": "3.7.15"
  }
 },
 "nbformat": 4,
 "nbformat_minor": 4
}
