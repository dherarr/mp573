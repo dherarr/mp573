{
 "cells": [
  {
   "cell_type": "code",
   "execution_count": 1,
   "metadata": {},
   "outputs": [],
   "source": [
    "## MP 573 Lecture 11: More Sampling\n",
    "##\n",
    "%matplotlib inline\n",
    "import numpy as np\n",
    "import matplotlib.pyplot as plt\n",
    "from IPython.display import display, Image\n",
    "import matplotlib.image as mpimg\n",
    "from os.path import dirname, join as pjoin\n",
    "import scipy.io as sio\n",
    "from ipywidgets import interact, interactive, fixed, interact_manual\n",
    "import ipywidgets as widgets"
   ]
  },
  {
   "cell_type": "code",
   "execution_count": 2,
   "metadata": {
    "scrolled": true
   },
   "outputs": [
    {
     "data": {
      "image/png": "[encoded data removed]",
      "text/plain": [
       "<Figure size 432x288 with 1 Axes>"
      ]
     },
     "metadata": {
      "needs_background": "light"
     },
     "output_type": "display_data"
    }
   ],
   "source": [
    "## Create a spokes pattern\n",
    "N = 1001\n",
    "x = np.linspace(-10,10,N)\n",
    "y = np.linspace(-10,10,N)\n",
    "X, Y = np.meshgrid(x,y)\n",
    "RHO = np.sqrt(X**2+Y**2)\n",
    "THETA = np.arctan2(Y,X)\n",
    "f = np.greater(np.sin(THETA*100),0)\n",
    "f[np.less(RHO,0.5)]=0\n",
    "f[np.greater(RHO,9.5)]=0\n",
    "fhat = np.fft.fftshift(np.fft.fft2(np.fft.ifftshift(f)))\n",
    "imgplot = plt.imshow(f,cmap='gray')"
   ]
  },
  {
   "cell_type": "code",
   "execution_count": 3,
   "metadata": {},
   "outputs": [],
   "source": [
    "def makeOTF(A):\n",
    "    hhat = np.exp(-A*RHO/2)*np.cos(A*RHO) \n",
    "    ghat = fhat*hhat\n",
    "    g = np.fft.fftshift(np.fft.ifft2(np.fft.ifftshift(ghat)))\n",
    "    plt.figure(figsize=(20,10))\n",
    "    plt.subplot(1,2,1)\n",
    "    font = {'family' : 'arial',\n",
    "            'weight' : 'normal',\n",
    "            'size'   : 26}\n",
    "    plt.rc('font', **font)\n",
    "    imgplot = plt.plot(x,np.exp(-A*abs(x)/2)*np.cos(A*abs(x)) )\n",
    "\n",
    "    plt.subplot(1,2,2)\n",
    "    font = {'family' : 'arial',\n",
    "            'weight' : 'normal',\n",
    "            'size'   : 26}\n",
    "    plt.rc('font', **font)\n",
    "    imgplot = plt.imshow(abs(g),cmap='gray')\n",
    "\n",
    "    return (g)"
   ]
  },
  {
   "cell_type": "code",
   "execution_count": 4,
   "metadata": {},
   "outputs": [
    {
     "data": {
      "application/vnd.jupyter.widget-view+json": {
       "model_id": "3f4e0f9499734444bcc7cfc5accb256b",
       "version_major": 2,
       "version_minor": 0
      },
      "text/plain": [
       "interactive(children=(FloatSlider(value=1.0, description='A', max=3.0, step=0.2), Output()), _dom_classes=('wi…"
      ]
     },
     "metadata": {},
     "output_type": "display_data"
    }
   ],
   "source": [
    "## Create interactive slide bar\n",
    "y = interactive(makeOTF,A=(0,3,0.2))\n",
    "display(y)"
   ]
  },
  {
   "cell_type": "code",
   "execution_count": null,
   "metadata": {},
   "outputs": [],
   "source": []
  }
 ],
 "metadata": {
  "kernelspec": {
   "display_name": "Python 3",
   "language": "python",
   "name": "python3"
  },
  "language_info": {
   "codemirror_mode": {
    "name": "ipython",
    "version": 3
   },
   "file_extension": ".py",
   "mimetype": "text/x-python",
   "name": "python",
   "nbconvert_exporter": "python",
   "pygments_lexer": "ipython3",
   "version": "3.7.6"
  }
 },
 "nbformat": 4,
 "nbformat_minor": 4
}
