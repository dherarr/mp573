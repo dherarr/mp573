{
 "cells": [
  {
   "cell_type": "markdown",
   "metadata": {},
   "source": [
    "# Quantitative MRI: Confounding Factors, Bias, and Reproducibility\n",
    "\n",
    "\n",
    "## Fat quantification signal model (R2*-uncorrected): \n",
    "\n",
    "<font size=\"4\">\n",
    "\n",
    "<br>\n",
    "\n",
    "$s(TE) = \\left( A_{\\hbox{water}} + A_{\\hbox{fat}} \\sum_{p=1}^P \\rho_p e^{i 2 \\pi TE f_p} \\right) $\n",
    "\n",
    "**Known parameters**: TE values (say, 6 echo times), $\\rho_p$ and $f_p$ (fat NMR peak relative amplitudes and frequencies)\n",
    "\n",
    "\n",
    "**Unknown parameters**: $A_{\\hbox{water}}$, $A_{\\hbox{fat}}$\n",
    "\n",
    "**Fat quantification**: Fat fraction in percentage (FF) = $100 \\cdot A_{\\hbox{fat}} / (A_{\\hbox{fat}} + A_{\\hbox{water}})$\n",
    "\n",
    "    \n",
    "<br>\n",
    "    \n",
    "</font>\n",
    "    \n",
    "    \n",
    "## Fat quantification signal model (R2*-corrected): \n",
    "\n",
    "\n",
    "<font size=\"4\">\n",
    "\n",
    "<br>\n",
    "\n",
    "$s(TE) = \\left( A_{\\hbox{water}} + A_{\\hbox{fat}} \\sum_{p=1}^P \\rho_p e^{i 2 \\pi TE f_p} \\right)$ <font color='red'> **$e^{-  TE \\, R_2^* }$** </font>\n",
    "\n",
    "**Known parameters**: TE values (say, 6 echo times), $\\rho_p$ and $f_p$ (fat NMR peak relative amplitudes and frequencies)\n",
    "\n",
    "\n",
    "**Unknown parameters**: $A_{\\hbox{water}}$, $A_{\\hbox{fat}}$, <font color='red'>**$R_2^*$**</font>\n",
    "\n",
    "**Fat quantification**: Fat fraction in percentage (FF) = $100 \\cdot A_{\\hbox{fat}} / (A_{\\hbox{fat}} + A_{\\hbox{water}})$\n",
    "\n",
    "</font>\n"
   ]
  },
  {
   "cell_type": "code",
   "execution_count": 17,
   "metadata": {},
   "outputs": [],
   "source": [
    "## MP 710: Quantitative MRI\n",
    "##\n",
    "%matplotlib inline\n",
    "import numpy as np\n",
    "import matplotlib.pyplot as plt\n",
    "from IPython.display import display, Image\n",
    "import matplotlib.image as mpimg\n",
    "from os.path import dirname, join as pjoin\n",
    "import scipy.io as sio\n",
    "from dataclasses import dataclass\n",
    "from scipy.optimize import curve_fit\n",
    "from ipywidgets import interact, interactive, fixed, interact_manual\n",
    "import ipywidgets as widgets"
   ]
  },
  {
   "cell_type": "code",
   "execution_count": 18,
   "metadata": {},
   "outputs": [],
   "source": [
    "@dataclass\n",
    "class trueParams: # Tissue parameters to simulate chemical shift encoded signal\n",
    "    A: float\n",
    "    ff: float\n",
    "    r2star: float\n",
    "    fieldmap: float = 0.0\n",
    "        \n",
    "@dataclass\n",
    "class imDataParams: # Acquisition parameters to simulate chemical shift encoded signal\n",
    "    FieldStrength: float\n",
    "    TE: list\n",
    "        \n",
    "\n",
    "@dataclass\n",
    "class algoParams: # Specifies signal model for chemical shift encoded signal\n",
    "    fatFreqs: list\n",
    "    fatAmps: list\n",
    "    USE_R2: bool    \n",
    "        \n",
    "\n",
    "# This function synthetizes some CSE signal given tissue, acquisition, and signal model        \n",
    "def create_signal(imP, trueP, algoP):\n",
    "    sw = trueP.A*(1-trueP.ff*0.01)*np.ones(len(imP.TE))\n",
    "    sf = 0*imP.TE\n",
    "    \n",
    "    for n in range(0, len(algoP.fatFreqs)):\n",
    "        sf = sf + algoP.fatAmps[n]*trueP.A*trueP.ff*0.01*np.exp(1j*2*np.pi*imP.TE*algoP.fatFreqs[n]*imP.FieldStrength*42.576)\n",
    "        #sf = sf + imP.TE\n",
    "    s = sw + sf\n",
    "    \n",
    "    if algoP.USE_R2:\n",
    "        s = s*np.exp(-imP.TE*trueP.r2star + 1j*2*np.pi*imP.TE*trueP.fieldmap)\n",
    "    else:\n",
    "        s = s*np.exp(1j*2*np.pi*imP.TE*trueP.fieldmap)\n",
    "    \n",
    "    return s\n",
    "\n",
    "# Wrapper for create_signal function above     \n",
    "def create_signal_r2star(TE, A, ff, r2star):\n",
    "    \n",
    "    global myImDataParams\n",
    "    global myAlgoParams\n",
    "    \n",
    "    fieldmap = 0\n",
    "    myTrueParams = trueParams(A, ff, r2star,fieldmap)\n",
    "\n",
    "    s = create_signal(myImDataParams, myTrueParams, myAlgoParams)\n",
    "    \n",
    "    s2 = np.abs(s)\n",
    "    \n",
    "    return s2\n",
    "\n",
    "# Wrapper for create_signal function above, without including R2* in the model     \n",
    "def create_signal_nor2star(TE, A, ff):\n",
    "    \n",
    "    global myImDataParams\n",
    "    global myAlgoParams\n",
    "    \n",
    "    r2star = 0\n",
    "    fieldmap = 0\n",
    "    myTrueParams = trueParams(A, ff, r2star,fieldmap)\n",
    "\n",
    "    s = create_signal(myImDataParams, myTrueParams, myAlgoParams)\n",
    "    \n",
    "    s2 = np.abs(s)\n",
    "    \n",
    "    return s2\n",
    "\n",
    "\n",
    "# Make the fonts large\n",
    "font = {'weight' : 'normal',\n",
    "        'size'   : 20}"
   ]
  },
  {
   "cell_type": "code",
   "execution_count": 34,
   "metadata": {},
   "outputs": [
    {
     "data": {
      "image/png": "[encoded data removed]",
      "text/plain": [
       "<Figure size 432x288 with 1 Axes>"
      ]
     },
     "metadata": {
      "needs_background": "light"
     },
     "output_type": "display_data"
    }
   ],
   "source": [
    "global myAlgoParams \n",
    "global myImDataParams\n",
    "global t\n",
    "global s1\n",
    "\n",
    "# Set some parameters for plotting a continuous-looking CSE signal\n",
    "N = 1001\n",
    "tmax = 20*0.001\n",
    "t = np.linspace(0.0,tmax,N)\n",
    "\n",
    "# Set some true FF and R2* (can try different values but for this \n",
    "# exercise we will end up fixing them at 30.0 and 100.0, respectively)\n",
    "true_FF = 30.0\n",
    "true_R2star = 100.0\n",
    "\n",
    "myTrueParams = trueParams(100., true_FF, true_R2star, 0.)\n",
    "\n",
    "fFreq = [-3.80, -3.40, -2.60, -1.94, -0.39, 0.60];\n",
    "fAmps = [0.087, 0.693, 0.128, 0.004, 0.039, 0.048];\n",
    "myAlgoParams = algoParams(fFreq, fAmps, True )\n",
    "\n",
    "myImDataParams = imDataParams(1.5, t)\n",
    "s1 = create_signal(myImDataParams, myTrueParams , myAlgoParams);\n",
    "\n",
    "plt.plot(t*1000,abs(s1),'gray',linewidth=6.0);\n",
    "plt.xlabel('Echo Time (ms)');\n",
    "plt.ylabel('Signal (AU)');\n",
    "plt.rc('font', **font)\n"
   ]
  },
  {
   "cell_type": "code",
   "execution_count": 32,
   "metadata": {},
   "outputs": [],
   "source": [
    "# Plot the least-squares signal fit given some echo time combination\n",
    "def showFit(TE1,dTE):\n",
    "    global myAlgoParams \n",
    "    global myImDataParams\n",
    "    global t\n",
    "    global s1\n",
    "    \n",
    "    font = {'weight' : 'normal',\n",
    "        'size'   : 22}\n",
    "        \n",
    "    TE1 = TE1*0.001\n",
    "    dTE = dTE*0.001\n",
    "    nTE = 6\n",
    "    TE = np.linspace(TE1,TE1 + (nTE-1)*dTE,nTE)\n",
    "    myImDataParams = imDataParams(1.5, TE)\n",
    "    s = create_signal(myImDataParams, myTrueParams , myAlgoParams);\n",
    "\n",
    "    fFreq = [ -3.40];\n",
    "    fAmps = [ 0.693];\n",
    "    myAlgoParams = algoParams(fFreq, fAmps, True )\n",
    "\n",
    "    p0 = np.array([90.,40.])\n",
    "    popt, pcov = curve_fit(create_signal_nor2star, TE, abs(s), p0);\n",
    "    sfit = create_signal_nor2star( TE, popt[0], popt[1])\n",
    "\n",
    "\n",
    "    p0 = np.array([90.,40.,50.])\n",
    "    popt2, pcov = curve_fit(create_signal_r2star, TE, abs(s), p0);\n",
    "    sfit2 = create_signal_r2star( TE, popt2[0], popt2[1], popt2[2])\n",
    "\n",
    "    plt.figure(figsize=(20,7))\n",
    "    plt.subplot(1,2,1)\n",
    "    plt.plot(t*1000,abs(s1),'gray',linewidth=6.0);\n",
    "    plt.plot(TE*1000,abs(s),'or',markersize=12);\n",
    "    plt.plot(TE*1000,abs(sfit),'sg',markersize=9);\n",
    "    plt.xlabel('Echo Time (ms)');\n",
    "    plt.ylabel('Signal (AU)');\n",
    "    plt.title('R2*-uncorrected: Estimated FF = ' '{:.3}'.format(popt[1]) );\n",
    "    plt.rc('font', **font)\n",
    "\n",
    "    plt.subplot(1,2,2)\n",
    "    plt.plot(t*1000,abs(s1),'gray',linewidth=6.0);\n",
    "    plt.plot(TE*1000,abs(s),'or',markersize=12);\n",
    "    plt.plot(TE*1000,abs(sfit2),'sg',markersize=9);\n",
    "    plt.xlabel('Echo Time (ms)');\n",
    "    plt.ylabel('Signal (AU)');\n",
    "    plt.title('R2*-corrected: Estimated FF = ' '{:.3}'.format(popt2[1]) );\n",
    "    plt.rc('font', **font)\n",
    "\n",
    "        "
   ]
  },
  {
   "cell_type": "code",
   "execution_count": 33,
   "metadata": {},
   "outputs": [
    {
     "data": {
      "application/vnd.jupyter.widget-view+json": {
       "model_id": "28c368a2f5aa47858b4e40c2c0f1f50a",
       "version_major": 2,
       "version_minor": 0
      },
      "text/plain": [
       "interactive(children=(FloatSlider(value=1.6, description='TE1', max=3.0, min=0.4, step=0.2), FloatSlider(value…"
      ]
     },
     "metadata": {},
     "output_type": "display_data"
    }
   ],
   "source": [
    "## Create interactive slide bar\n",
    "y = interactive(showFit,TE1=(0.4,3.0,0.2),dTE=(0.6,4.0,0.2))\n",
    "display(y)"
   ]
  },
  {
   "cell_type": "code",
   "execution_count": null,
   "metadata": {},
   "outputs": [],
   "source": []
  },
  {
   "cell_type": "code",
   "execution_count": null,
   "metadata": {},
   "outputs": [],
   "source": []
  },
  {
   "cell_type": "code",
   "execution_count": null,
   "metadata": {},
   "outputs": [],
   "source": []
  },
  {
   "cell_type": "code",
   "execution_count": null,
   "metadata": {},
   "outputs": [],
   "source": []
  },
  {
   "cell_type": "code",
   "execution_count": null,
   "metadata": {},
   "outputs": [],
   "source": []
  },
  {
   "cell_type": "code",
   "execution_count": null,
   "metadata": {},
   "outputs": [],
   "source": []
  },
  {
   "cell_type": "code",
   "execution_count": null,
   "metadata": {},
   "outputs": [],
   "source": []
  },
  {
   "cell_type": "code",
   "execution_count": null,
   "metadata": {},
   "outputs": [],
   "source": []
  },
  {
   "cell_type": "code",
   "execution_count": null,
   "metadata": {},
   "outputs": [],
   "source": []
  }
 ],
 "metadata": {
  "kernelspec": {
   "display_name": "Python 3",
   "language": "python",
   "name": "python3"
  },
  "language_info": {
   "codemirror_mode": {
    "name": "ipython",
    "version": 3
   },
   "file_extension": ".py",
   "mimetype": "text/x-python",
   "name": "python",
   "nbconvert_exporter": "python",
   "pygments_lexer": "ipython3",
   "version": "3.7.6"
  }
 },
 "nbformat": 4,
 "nbformat_minor": 4
}
