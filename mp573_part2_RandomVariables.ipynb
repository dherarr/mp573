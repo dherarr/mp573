{
 "cells": [
  {
   "cell_type": "markdown",
   "metadata": {},
   "source": [
    "# Random Numbers Notebook\n",
    "This script will be used to sum and plot result of discrete and continuous random variables for a MP573 in-class exercise.\n",
    "\n",
    "Author: Sean Fain \n",
    "Adapted to to Python 3 by Lawrence Lechuga \n",
    "08/06/2020\n",
    "\n",
    "### Perform the following experiments described below:\n",
    "- ***Experiment 1*** – 1 die with 10 trials\n",
    "- ***Experiment 2*** - 1 die with 100 trials\n",
    "- ***Experiment 3*** – Monte Carlo simulation of Experiment 1\n",
    "- ***Experiment 4*** – Monte Carlo simulation of sum of 10 dice\n",
    "- ***Experiment \"n\"*** - Try some of your own!"
   ]
  },
  {
   "cell_type": "markdown",
   "metadata": {},
   "source": [
    "## Import relevant packages"
   ]
  },
  {
   "cell_type": "code",
   "execution_count": 10,
   "metadata": {},
   "outputs": [],
   "source": [
    "import numpy as np\n",
    "import matplotlib.pyplot as plt"
   ]
  },
  {
   "cell_type": "markdown",
   "metadata": {},
   "source": [
    "## User inputs\n",
    "### In the following cells, fill in the necessary user-information: \n",
    "- ***How many trials do you want to run?***\n",
    "    - Discrete vaules only\n",
    "- ***Which experiment will we perform?***\n",
    "    - Rolling 6-die (option 1)\n",
    "    - Index fingernail (option 0)\n",
    "- ***If you're rolling dice, how many measures/dice to sum?***\n",
    "- ***Do you want to simulate the dice roll or type in numbers manually?***  "
   ]
  },
  {
   "cell_type": "code",
   "execution_count": 35,
   "metadata": {},
   "outputs": [
    {
     "name": "stdout",
     "output_type": "stream",
     "text": [
      "How many trials should we run?: 5\n"
     ]
    }
   ],
   "source": [
    "flag = 0;\n",
    "expt_flag = 0;\n",
    "NTrials = int(input('How many trials should we run?: '))"
   ]
  },
  {
   "cell_type": "code",
   "execution_count": 36,
   "metadata": {},
   "outputs": [
    {
     "name": "stdout",
     "output_type": "stream",
     "text": [
      "Dice (1) or Index Fingernail (0):0\n"
     ]
    }
   ],
   "source": [
    "Y = np.zeros((NTrials,1))\n",
    "n = 0;\n",
    "expt_flag = int( input('Dice (1) or Index Fingernail (0):') )\n",
    "\n",
    "if expt_flag == 1: \n",
    "    n = int(input('How many measures to sum?: '))\n",
    "    flag = int(input('Simulation (1) or Real (0)?: '))\n",
    "else:\n",
    "    n = 1"
   ]
  },
  {
   "cell_type": "markdown",
   "metadata": {},
   "source": [
    "## Here's where the counting happens...\n",
    "\n",
    "Generate and count the \"random\" outcomes"
   ]
  },
  {
   "cell_type": "code",
   "execution_count": 37,
   "metadata": {},
   "outputs": [
    {
     "name": "stdout",
     "output_type": "stream",
     "text": [
      "Measurement 1 out of 5\n",
      "What is the next value? 1.12\n",
      " \n",
      "\n",
      "Measurement 2 out of 5\n",
      "What is the next value? 1.124\n",
      " \n",
      "\n",
      "Measurement 3 out of 5\n",
      "What is the next value? 1.122\n",
      " \n",
      "\n",
      "Measurement 4 out of 5\n",
      "What is the next value? 1.128\n",
      " \n",
      "\n",
      "Measurement 5 out of 5\n",
      "What is the next value? 1.127\n",
      " \n",
      "\n"
     ]
    }
   ],
   "source": [
    "j = 0;i = 0; # initialize counter\n",
    "y = 0; x = 0; # initialize x and y values\n",
    "roll = 0\n",
    "while j<NTrials:\n",
    "    if expt_flag == 1:\n",
    "        if flag ==1:\n",
    "            x = np.ceil((np.random.rand(1)*6))\n",
    "        else:\n",
    "            roll = roll+1\n",
    "            print('Roll number '+str(roll)+' out of '+str(NTrials*n))\n",
    "            x = float(input('What value did you roll? '))\n",
    "            print(' \\n')\n",
    "    else: \n",
    "        roll = roll+1\n",
    "        print('Measurement '+str(roll)+' out of '+str(NTrials*n))        \n",
    "        x = float(input('What is the next value? '))\n",
    "        print(' \\n')\n",
    "    i = i+1\n",
    "    if expt_flag == 1:\n",
    "        y = x+y\n",
    "    else:\n",
    "        y = x   \n",
    "    if i == n:\n",
    "        Y[j] = y\n",
    "        y = 0\n",
    "        i = 0\n",
    "        j = j+1"
   ]
  },
  {
   "cell_type": "markdown",
   "metadata": {},
   "source": [
    "## $\\mu$ and $\\sigma$ of the overall experiment\n",
    "Calculate the mean and standard deviation of the experiment"
   ]
  },
  {
   "cell_type": "code",
   "execution_count": 38,
   "metadata": {},
   "outputs": [],
   "source": [
    "s = np.mean(Y)\n",
    "d = np.std(Y)"
   ]
  },
  {
   "cell_type": "markdown",
   "metadata": {},
   "source": [
    "## Plot histograms of the results"
   ]
  },
  {
   "cell_type": "code",
   "execution_count": 39,
   "metadata": {},
   "outputs": [
    {
     "data": {
      "image/png": "[encoded data removed]",
      "text/plain": [
       "<Figure size 432x288 with 1 Axes>"
      ]
     },
     "metadata": {
      "needs_background": "light"
     },
     "output_type": "display_data"
    }
   ],
   "source": [
    "if expt_flag == 1:\n",
    "    A = np.histogram(Y);\n",
    "    plt.figure(1)\n",
    "    plt.hist(Y,bins ='auto', density = 1);\n",
    "    str_title = 'Frequency Histogram: $\\mu$ = '+str(round(s,2))+' and $\\sigma$= '+str(round(d,2));\n",
    "    plt.title(str_title);plt.xlabel('Summed Value'); plt.ylabel('Estimated Probability')\n",
    "else:\n",
    "    A = np.histogram(Y);\n",
    "    plt.figure(1)\n",
    "    plt.hist(Y,bins = 'auto',density = 1);\n",
    "    str_title = 'Frequency Histogram: $\\mu$ = '+str(round(s,2))+' and $\\sigma$= '+str(round(d,3));\n",
    "    plt.title(str_title);plt.xlabel('Summed Value'); plt.ylabel('Estimated Probability')"
   ]
  },
  {
   "cell_type": "code",
   "execution_count": 40,
   "metadata": {},
   "outputs": [
    {
     "name": "stdout",
     "output_type": "stream",
     "text": [
      "The mean is:  1.12\n",
      "The standard deviation is:  0.0\n"
     ]
    }
   ],
   "source": [
    "print(\"The mean is: \",str(round(s,2)));\n",
    "print(\"The standard deviation is: \",str(np.round(d,2)));"
   ]
  },
  {
   "cell_type": "code",
   "execution_count": 41,
   "metadata": {},
   "outputs": [
    {
     "name": "stdout",
     "output_type": "stream",
     "text": [
      "[[1.12 ]\n",
      " [1.124]\n",
      " [1.122]\n",
      " [1.128]\n",
      " [1.127]]\n"
     ]
    }
   ],
   "source": [
    "print(Y)"
   ]
  },
  {
   "cell_type": "code",
   "execution_count": null,
   "metadata": {},
   "outputs": [],
   "source": []
  }
 ],
 "metadata": {
  "kernelspec": {
   "display_name": "Python 3",
   "language": "python",
   "name": "python3"
  },
  "language_info": {
   "codemirror_mode": {
    "name": "ipython",
    "version": 3
   },
   "file_extension": ".py",
   "mimetype": "text/x-python",
   "name": "python",
   "nbconvert_exporter": "python",
   "pygments_lexer": "ipython3",
   "version": "3.8.3"
  }
 },
 "nbformat": 4,
 "nbformat_minor": 4
}
