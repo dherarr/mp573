{
 "cells": [
  {
   "cell_type": "markdown",
   "metadata": {},
   "source": [
    "# Homework 4 \n",
    "By: Lawrence Lechuga\n",
    "Date: 11/04/2020\n",
    "\n",
    "## Problem 7\n",
    "### Method 1:\n",
    "\"Throws darts\" at the upper quadrants and takes the ratio of successes falling within the circle relative to the total number of trials. This is a purely $\\text{binomial}(n,p)$ process where the probability of success is the ratio of the areas and $n$ is the number of trials. \n",
    "### Method 2:\n",
    "Takes the functional form of the circle and calculates the average dimension in y. The area is then calculated by taking the mean value of $f(x)$ times the diameter to estimate the area. This is a Gaussian process that will converge to the correct answer based on the CLT."
   ]
  },
  {
   "cell_type": "code",
   "execution_count": 18,
   "metadata": {},
   "outputs": [],
   "source": [
    "import random\n",
    "import numpy as np\n",
    "import matplotlib.pyplot as plt\n",
    "%matplotlib inline "
   ]
  },
  {
   "cell_type": "code",
   "execution_count": 24,
   "metadata": {},
   "outputs": [
    {
     "name": "stderr",
     "output_type": "stream",
     "text": [
      "<ipython-input-24-38525ae8e93f>:11: RuntimeWarning: invalid value encountered in sqrt\n",
      "  G = np.longdouble(np.sqrt(radius**2-X**2));\n"
     ]
    },
    {
     "data": {
      "image/png": "[encoded data removed]",
      "text/plain": [
       "<Figure size 432x288 with 1 Axes>"
      ]
     },
     "metadata": {
      "needs_background": "light"
     },
     "output_type": "display_data"
    },
    {
     "name": "stdout",
     "output_type": "stream",
     "text": [
      "The calculated area is A =  3.1401597874737017264\n",
      "The true area is A =  3.141592653589793116\n"
     ]
    }
   ],
   "source": [
    "# -------------- Edit these --------------------------------------#\n",
    "trials = 10 # Modify the number of trials to n = 10, 100, 10000.\n",
    "radius = np.longdouble( 1 ) # Radius of the circle\n",
    "flag = 2 # experiment 1 or experiment 2\n",
    "#-----------------------------------------------------------------#\n",
    "c = np.longdouble(radius+radius/10);\n",
    "\n",
    "lims = np.longdouble(2*radius+radius/2);\n",
    "X = np.longdouble(np.arange(-lims/2,lims/2,0.01))\n",
    "\n",
    "G = np.longdouble(np.sqrt(radius**2-X**2));\n",
    "G[np.isnan(G)] = 0\n",
    "\n",
    "fig, axs = plt.subplots(1)\n",
    "fig.suptitle('Circle')\n",
    "axs.plot(X, G,'r-')\n",
    "# initialize some arrays and a list\n",
    "x = np.empty(trials)\n",
    "u = np.empty(trials)\n",
    "#g = []\n",
    "g = 0\n",
    "\n",
    "if (flag ==1):\n",
    "    f_x = 0\n",
    "    for ii in range(0,trials):\n",
    "        x[ii] = np.longdouble(lims*(random.uniform(0, 1)-0.5))\n",
    "        f_x = np.longdouble(np.sqrt(radius**2-x[ii]**2)) # This can be any function/pdf\n",
    "        u[ii] = np.longdouble(c*random.uniform(0, 1))\n",
    "        if (f_x>u[ii]):\n",
    "            #g.append(x[ii])\n",
    "            g = g+1\n",
    "            axs.plot(x[ii],u[ii],'g.')\n",
    "        else:\n",
    "            axs.plot(x[ii],u[ii],'k.')\n",
    "    \n",
    "    counts = len(g)\n",
    "    calc_area = 2*(counts/trials)*(c*lims)\n",
    "    true_area = np.pi*radius**2\n",
    "else:\n",
    "    f_x = np.empty(trials)\n",
    "    for ii in range(0,trials):\n",
    "        x[ii] = 2*radius*(random.uniform(0, 1)-0.5)\n",
    "        f_x[ii] = np.sqrt(radius**2-x[ii]**2) # This can be any function/pdf\n",
    "        axs.plot(x[ii],f_x[ii],'k.')\n",
    "        \n",
    "    calc_area = 2*(np.sum(f_x)*2*radius/trials)\n",
    "    true_area = np.pi*radius**2\n",
    "\n",
    "axs.set_aspect('equal')\n",
    "axs.set_xlabel('X')\n",
    "plt.show()\n",
    "\n",
    "# Calculations\n",
    "print('The calculated area is A = ',calc_area)\n",
    "print('The true area is A = ',true_area)\n"
   ]
  },
  {
   "cell_type": "code",
   "execution_count": null,
   "metadata": {},
   "outputs": [],
   "source": []
  }
 ],
 "metadata": {
  "kernelspec": {
   "display_name": "Python 3",
   "language": "python",
   "name": "python3"
  },
  "language_info": {
   "codemirror_mode": {
    "name": "ipython",
    "version": 3
   },
   "file_extension": ".py",
   "mimetype": "text/x-python",
   "name": "python",
   "nbconvert_exporter": "python",
   "pygments_lexer": "ipython3",
   "version": "3.8.3"
  }
 },
 "nbformat": 4,
 "nbformat_minor": 4
}
