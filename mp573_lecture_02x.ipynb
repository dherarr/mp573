{
 "cells": [
  {
   "cell_type": "code",
   "execution_count": 1,
   "metadata": {},
   "outputs": [],
   "source": [
    "## MP 573 Lecture 2x: Pseudo-random Number Generator\n",
    "##\n",
    "%matplotlib inline\n",
    "import numpy as np\n",
    "import matplotlib.pyplot as plt\n",
    "from IPython.display import display, Image\n",
    "import matplotlib.image as mpimg\n",
    "from os.path import dirname, join as pjoin\n",
    "import scipy.io as sio\n",
    "from scipy import signal\n",
    "import pywt as wt\n",
    "from skimage.data import shepp_logan_phantom\n",
    "\n",
    "font = {'weight' : 'normal',\n",
    "        'size'   : 18}\n",
    "\n",
    "np.set_printoptions(precision=5)\n",
    "np.set_printoptions(suppress=True)"
   ]
  },
  {
   "cell_type": "markdown",
   "metadata": {},
   "source": [
    "## Kneading as a random number generator"
   ]
  },
  {
   "cell_type": "code",
   "execution_count": 2,
   "metadata": {},
   "outputs": [],
   "source": [
    "# Start with some initial position between 0 and 1\n",
    "p0 = 0.4;\n",
    "p = p0;\n",
    "k = 0;"
   ]
  },
  {
   "cell_type": "code",
   "execution_count": 3,
   "metadata": {},
   "outputs": [
    {
     "data": {
      "text/plain": [
       "0.09090909090909088"
      ]
     },
     "execution_count": 3,
     "metadata": {},
     "output_type": "execute_result"
    }
   ],
   "source": [
    "# Kneading process (fold, then press)\n",
    "fold_location = 0.45 + (k%20)/200; # Where to fold the dough\n",
    "if p < fold_location:\n",
    "    p = fold_location + (fold_location - p) # Fold \"forward\"\n",
    "    \n",
    "# Now press the dough so it is located between 0 and 1\n",
    "p = (p-fold_location)/(np.maximum(fold_location,1.0-fold_location))\n",
    "\n",
    "\n",
    "# Increase k\n",
    "k = k+1\n",
    "\n",
    "p\n"
   ]
  },
  {
   "cell_type": "code",
   "execution_count": 4,
   "metadata": {},
   "outputs": [],
   "source": [
    "# Kneading process (fold, then press, N times)\n",
    "# Start with some initial position between 0 and 1\n",
    "p0 = np.linspace(0.2, 0.21, num=1000);\n",
    "p = np.copy(p0);\n",
    "k=0"
   ]
  },
  {
   "cell_type": "code",
   "execution_count": 5,
   "metadata": {},
   "outputs": [
    {
     "name": "stdout",
     "output_type": "stream",
     "text": [
      "Original locations: [0.2     0.20001 0.20002 0.20003]\n",
      "Current locations:  [0.45455 0.45453 0.45451 0.45449]\n"
     ]
    },
    {
     "data": {
      "image/png": "[encoded data removed]",
      "text/plain": [
       "<Figure size 432x288 with 1 Axes>"
      ]
     },
     "metadata": {
      "needs_background": "light"
     },
     "output_type": "display_data"
    }
   ],
   "source": [
    "fold_location = 0.45 + (k%20)/200; # Where to fold the dough\n",
    "\n",
    "p[p < fold_location] = fold_location + (fold_location - p[p < fold_location]) # Fold \"forward\"\n",
    "    \n",
    "# Now press the dough so it is located between 0 and 1\n",
    "p = (p-fold_location)/(np.maximum(fold_location,1.0-fold_location))\n",
    "\n",
    "# Display\n",
    "plt.hist(p, bins=np.linspace(0,1,50));\n",
    "print('Original locations: ' + str(p0[0:4]))\n",
    "print('Current locations:  ' + str(p[0:4]))\n",
    "\n",
    "# Increase k\n",
    "k = k+1"
   ]
  },
  {
   "cell_type": "code",
   "execution_count": 6,
   "metadata": {},
   "outputs": [
    {
     "name": "stdout",
     "output_type": "stream",
     "text": [
      "Original locations: [0.2    0.2001 0.2002 0.2003]\n",
      "Current locations:  [0.49889 0.63994 0.69627 0.57983]\n"
     ]
    },
    {
     "data": {
      "image/png": "[encoded data removed]",
      "text/plain": [
       "<Figure size 432x288 with 1 Axes>"
      ]
     },
     "metadata": {
      "needs_background": "light"
     },
     "output_type": "display_data"
    }
   ],
   "source": [
    "# Kneading process (fold, then press, N times)\n",
    "# Start with some initial position between 0 and 1\n",
    "p0 = np.linspace(0.2, 0.3, num=1000);\n",
    "p = np.copy(p0);\n",
    "N = 500000\n",
    "for k in range(N): # Put it in a loop\n",
    "    fold_location = 0.50 + (k%20)/10000; # Where to fold the dough\n",
    "\n",
    "    p[p < fold_location] = fold_location + (fold_location - p[p < fold_location]) # Fold \"forward\"\n",
    "    \n",
    "    # Now press the dough so it is located between 0 and 1\n",
    "    p = (p-fold_location)/(np.maximum(fold_location,1.0-fold_location))\n",
    "plt.hist(p, bins=np.linspace(0,1,50));\n",
    "print('Original locations: ' + str(p0[0:4]))\n",
    "print('Current locations:  ' + str(p[0:4]))"
   ]
  },
  {
   "cell_type": "code",
   "execution_count": 7,
   "metadata": {},
   "outputs": [
    {
     "name": "stdout",
     "output_type": "stream",
     "text": [
      "Original locations: [0.25    0.25005 0.2501  0.25015]\n",
      "Current locations:  [0.3842  0.17707 0.08309 0.20618]\n"
     ]
    },
    {
     "data": {
      "image/png": "[encoded data removed]",
      "text/plain": [
       "<Figure size 432x288 with 1 Axes>"
      ]
     },
     "metadata": {
      "needs_background": "light"
     },
     "output_type": "display_data"
    }
   ],
   "source": [
    "# Kneading process (stretch, then fold, N times)\n",
    "# Start with some initial position between 0 and 1\n",
    "p0 = np.linspace(0.25,0.3, num=1000);\n",
    "p = np.copy(p0);\n",
    "N = 100\n",
    "\n",
    "for k in range(N): # Put it in a loop\n",
    "    # Now press the dough so it is located between 0 and 1\n",
    "    p = 2*p\n",
    "    fold_location = 1.0 + (k%10 - 5)/50/np.pi; # Where to fold the dough\n",
    "    #print(fold_location)\n",
    "    p[p > fold_location] =  2*fold_location - p[p > fold_location] # Fold back\n",
    "    if np.min(p) < 0:\n",
    "        p = p-np.min(p)\n",
    "    if np.max(p) > 1:\n",
    "        p = p/np.max(p)\n",
    "    \n",
    "    \n",
    "plt.hist(p, bins=np.linspace(0,1,50));\n",
    "print('Original locations: ' + str(p0[0:4]))\n",
    "print('Current locations:  ' + str(p[0:4]))"
   ]
  },
  {
   "cell_type": "code",
   "execution_count": 8,
   "metadata": {},
   "outputs": [
    {
     "name": "stdout",
     "output_type": "stream",
     "text": [
      "Original locations: [0.25    0.25005 0.2501  0.25015]\n",
      "Current locations:  [0.10047 0.51907 0.36688 0.78548]\n"
     ]
    },
    {
     "data": {
      "image/png": "[encoded data removed]",
      "text/plain": [
       "<Figure size 432x288 with 1 Axes>"
      ]
     },
     "metadata": {
      "needs_background": "light"
     },
     "output_type": "display_data"
    }
   ],
   "source": [
    "# Kneading process (stretch, then modulo, N times)\n",
    "# Start with some initial position between 0 and 1\n",
    "p0 = np.linspace(0.25,0.3, num=1000);\n",
    "p = np.copy(p0);\n",
    "N = 20\n",
    "\n",
    "a = np.pi/2;# Stretch factor\n",
    "b = np.pi/10# Shift factor\n",
    "\n",
    "for k in range(N): # Put it in a loop\n",
    "    # Stretch and shift the dough\n",
    "    p = a*p + b\n",
    "    # Now press the dough so it is located between 0 and 1\n",
    "    p = p%1\n",
    "    \n",
    "    \n",
    "plt.hist(p, bins=np.linspace(0,1,50));\n",
    "print('Original locations: ' + str(p0[0:4]))\n",
    "print('Current locations:  ' + str(p[0:4]))"
   ]
  },
  {
   "cell_type": "code",
   "execution_count": null,
   "metadata": {},
   "outputs": [],
   "source": []
  }
 ],
 "metadata": {
  "kernelspec": {
   "display_name": "Python 3",
   "language": "python",
   "name": "python3"
  },
  "language_info": {
   "codemirror_mode": {
    "name": "ipython",
    "version": 3
   },
   "file_extension": ".py",
   "mimetype": "text/x-python",
   "name": "python",
   "nbconvert_exporter": "python",
   "pygments_lexer": "ipython3",
   "version": "3.7.6"
  }
 },
 "nbformat": 4,
 "nbformat_minor": 4
}
