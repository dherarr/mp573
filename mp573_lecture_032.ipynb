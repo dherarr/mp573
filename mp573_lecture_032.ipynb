{
 "cells": [
  {
   "cell_type": "markdown",
   "metadata": {},
   "source": [
    "# Quantitative MRI: Confounding Factors, Bias, and Reproducibility\n",
    "\n",
    "## Signal model\n",
    "\n",
    "$s(TE) = A e^{-  TE \\, R_2^* }$\n",
    "\n",
    "**Known parameters**: TE values (say, 6 echo times)\n",
    "\n",
    "\n",
    "**Unknown parameters**: $A, R_2^*$\n",
    "\n",
    "\n"
   ]
  },
  {
   "cell_type": "code",
   "execution_count": 31,
   "metadata": {},
   "outputs": [],
   "source": [
    "## MP 573: Monte-Carlo simulation: quantitative MRI noise propagation\n",
    "##\n",
    "%matplotlib inline\n",
    "import numpy as np\n",
    "import matplotlib.pyplot as plt\n",
    "from IPython.display import display, Image\n",
    "import matplotlib.image as mpimg\n",
    "from os.path import dirname, join as pjoin\n",
    "import scipy.io as sio\n",
    "from dataclasses import dataclass\n",
    "from scipy.optimize import curve_fit\n",
    "from ipywidgets import interact, interactive, fixed, interact_manual\n",
    "import ipywidgets as widgets"
   ]
  },
  {
   "cell_type": "code",
   "execution_count": 32,
   "metadata": {},
   "outputs": [],
   "source": [
    "@dataclass\n",
    "class trueParams: # Tissue parameters to simulate multi-echo MRI signal\n",
    "    A: float\n",
    "    phi: float\n",
    "    r2star: float\n",
    "    fieldmap: float = 0.0\n",
    "        \n",
    "@dataclass\n",
    "class imDataParams: # Acquisition parameters to simulate multi-echo signal\n",
    "    FieldStrength: float\n",
    "    TE: list\n",
    "        \n",
    "# This function synthetizes some multi-echo signal given tissue and acquisition parameters       \n",
    "def create_signal(imP, trueP):\n",
    "    s = trueP.A*np.exp(1j*trueP.phi)*np.exp(-imP.TE*trueP.r2star + 1j*trueP.phi + 1j*2*np.pi*imP.TE*trueP.fieldmap)\n",
    "    \n",
    "    return s\n",
    "\n",
    "# Wrapper for create_signal function above     \n",
    "def create_signal_r2star(TE, A,r2star):\n",
    "    \n",
    "    global myImDataParams\n",
    "    \n",
    "    fieldmap = 0\n",
    "    phi = 0\n",
    "    myTrueParams = trueParams(A, phi, r2star,fieldmap)\n",
    "\n",
    "    s = create_signal(myImDataParams, myTrueParams)\n",
    "    \n",
    "    s2 = np.abs(s)\n",
    "       \n",
    "    return s2\n",
    "\n",
    "\n",
    "# Make the fonts large\n",
    "font = {'weight' : 'normal',\n",
    "        'size'   : 16}\n",
    "\n",
    "global myImDataParams\n",
    "global t\n",
    "global s1"
   ]
  },
  {
   "cell_type": "markdown",
   "metadata": {},
   "source": [
    "## Visualize the distribution of noisy signals at the input and output\n",
    "\n",
    "We will generate an underlying noiseless multi-echo signal with various different parameters. From this noiseles multi-echo signal, we will generate many noisy realizations of the signal (ie: signal plus noise). Each noisy realization of the signal mimics the signal observed at a single pixel across echo times. For each pixel, we will perform non-linear least squares fitting to estimate $R_2^*$. Finally, we will plot the distribution of measured $R_2^*$ across our realizations (ie: across our pixels)."
   ]
  },
  {
   "cell_type": "code",
   "execution_count": 37,
   "metadata": {},
   "outputs": [],
   "source": [
    "import scipy.stats as stats\n",
    "\n",
    "# Plot the least-squares signal fit given some echo time combination\n",
    "def showFitNoise(R2star,TE1,dTE, SNR):\n",
    "    global myImDataParams\n",
    "    global t\n",
    "    global s1\n",
    "    global axs, fig\n",
    "    \n",
    "    font = {'weight' : 'normal',\n",
    "        'size'   : 16}\n",
    "        \n",
    "    # Set the true  R2* from function input\n",
    "    true_R2star = R2star\n",
    "    myTrueParams = trueParams(100., 0., true_R2star, 0.)\n",
    "\n",
    "    # Generate continuous-looking noiseless true signal\n",
    "    N = 1001\n",
    "    tmax = 20*0.001\n",
    "    t = np.linspace(0.0,tmax,N)\n",
    "    myImDataParams = imDataParams(1.5, t)\n",
    "    s1 = create_signal(myImDataParams, myTrueParams );\n",
    "\n",
    "\n",
    "    # Generate the echo time combination given TE1 and dTE\n",
    "    TE1 = TE1*0.001\n",
    "    dTE = dTE*0.001\n",
    "    nTE = 6\n",
    "    TE = np.linspace(TE1,TE1 + (nTE-1)*dTE,nTE)\n",
    "    myImDataParams = imDataParams(1.5, TE)\n",
    "\n",
    "    # Create noiseless signal\n",
    "    s = create_signal(myImDataParams, myTrueParams);\n",
    "\n",
    "\n",
    "    # Calculate noise standard deviation\n",
    "    sigma = 100/SNR;\n",
    "\n",
    "    \n",
    "\n",
    "    # Generate multiple noisy realizations and estimate R2* from each\n",
    "    Npixels = 100;\n",
    "    r2est = np.zeros(Npixels)    \n",
    "    sfit3 = np.zeros((N, Npixels))\n",
    "    snall = np.zeros((nTE, Npixels))\n",
    "    for k in range(Npixels):\n",
    "        sn = s +  stats.norm.rvs(0, sigma, size=(nTE)) + stats.norm.rvs(0, sigma, size=(nTE))*1j\n",
    "        snall[:,k] = np.abs(sn) \n",
    "        p0 = np.array([90.,40.])\n",
    "        popt, pcov = curve_fit(create_signal_r2star, TE, abs(sn), p0);\n",
    "        sfit = create_signal_r2star( TE, popt[0], popt[1])\n",
    "        \n",
    "        myEstParams = trueParams(popt[0], 0., popt[1], 0.)\n",
    "        mySimParams = imDataParams(1.5, t)\n",
    "        sfit3[:,k] = np.abs(create_signal(mySimParams, myEstParams));\n",
    "        r2est[k] = popt[1]\n",
    "        \n",
    "    print('\\nR2 estimate mean:' + '{:.1f}'.format(np.mean(r2est)) + ', std: ' + '{:.1f}'.format(np.sqrt(np.var(r2est))))\n",
    "    \n",
    "\n",
    "\n",
    "    # Display results\n",
    "    fig = plt.figure(figsize=(15,7))\n",
    "    fig.subplots_adjust(hspace=0.3,wspace=0.3)\n",
    "    plt.subplot(1,2,1)\n",
    "    plt.plot(t*1000,abs(sfit3),'g',linewidth=1.0);\n",
    "    plt.plot(t*1000,abs(s1),'gray',linewidth=6.0);\n",
    "    plt.plot(TE*1000,abs(s),'or',markersize=12);\n",
    "    plt.plot(TE*1000,abs(snall),'oc',markersize=6);\n",
    "    plt.xlabel('Echo Time (ms)');\n",
    "    plt.ylabel('Signal (AU)');\n",
    "    plt.title('Measured and estimated signals' );\n",
    "    plt.rc('font', **font)\n",
    "\n",
    "    \n",
    "    plt.subplot(1,2,2)\n",
    "    plt.boxplot(r2est);\n",
    "    plt.ylim([0, 500])\n",
    "    plt.ylabel('R2* estimates');\n",
    "    plt.title('True R2*=' + '{:.1f}'.format(true_R2star)  +  ', Est R2*=' + '{:.1f}'.format(np.mean(r2est)) + '$\\pm$' + '{:.1f}'.format(np.sqrt(np.var(r2est)))  );\n",
    "    plt.xticks([])\n",
    "    plt.rc('font', **font)"
   ]
  },
  {
   "cell_type": "code",
   "execution_count": 38,
   "metadata": {},
   "outputs": [
    {
     "data": {
      "application/vnd.jupyter.widget-view+json": {
       "model_id": "1cb153caff5b481f94eb768b25d0b8df",
       "version_major": 2,
       "version_minor": 0
      },
      "text/plain": [
       "interactive(children=(IntSlider(value=260, description='R2star', max=500, min=20, step=10), FloatSlider(value=…"
      ]
     },
     "metadata": {},
     "output_type": "display_data"
    }
   ],
   "source": [
    "## Create interactive slide bar\n",
    "y = interactive(showFitNoise,R2star=(20,500,10),TE1=(0.4,3.0,0.05),dTE=(0.6,4.0,0.05), SNR=(5,40,5))\n",
    "display(y)"
   ]
  },
  {
   "cell_type": "code",
   "execution_count": 6,
   "metadata": {},
   "outputs": [
    {
     "name": "stdout",
     "output_type": "stream",
     "text": [
      "\n",
      "R2 estimate mean:96.0, std: 34.9\n",
      "  axs... (2,)\n"
     ]
    },
    {
     "data": {
      "image/png": "[encoded data removed]",
      "text/plain": [
       "<Figure size 432x288 with 2 Axes>"
      ]
     },
     "metadata": {
      "needs_background": "light"
     },
     "output_type": "display_data"
    }
   ],
   "source": [
    "x = np.linspace(0,3,200)\n",
    "y = np.sin(x)\n",
    "\n",
    "fig, axs = plt.subplots(1, 2)\n",
    "showFitNoise(100,1.,1.,10.)\n",
    "\n",
    "# axs[0].plot(x, y)\n",
    "# axs[0].set_title(\"main\")\n",
    "# # axs[1, 0].plot(x, y**2)\n",
    "# # axs[1, 0].set_title(\"shares x with main\")\n",
    "# #axs[1, 0].sharex(axs[0, 0])\n",
    "# axs[1].plot(x + 1, y + 1)\n",
    "# axs[1].set_title(\"unrelated\")\n",
    "# # axs[1, 1].plot(x + 2, y + 2)\n",
    "# # axs[1, 1].set_title(\"also unrelated\")\n",
    "# fig.tight_layout()"
   ]
  },
  {
   "cell_type": "markdown",
   "metadata": {},
   "source": [
    "## Visualize the R2* noise across echo time combinations\n",
    "\n",
    "In this next cell we will fix most parameters (true R2*, number of echoes, SNR) and will evaluate the bias and standard deviation in measured R2* for different echo time combinations. These echo time combinations are determined by the initial echo time ($TE_1$) and the echo time spacing ($\\Delta TE$). This approach allows us to optimize the choice of echo times for R2* estimation with low bias and low standard deviation. "
   ]
  },
  {
   "cell_type": "code",
   "execution_count": null,
   "metadata": {},
   "outputs": [],
   "source": [
    "import scipy.stats as stats\n",
    "\n",
    "# Create noise propagation plot\n",
    "global myImDataParams\n",
    "global t\n",
    "global s1   \n",
    "    \n",
    "nTE1 = 7;\n",
    "ndTE = 9;\n",
    "TE1s = np.linspace(0.5,2.5,nTE1)\n",
    "dTEs = np.linspace(0.8,3.0,ndTE)\n",
    "\n",
    "r2means = np.zeros((nTE1,ndTE))\n",
    "r2stds = np.zeros((nTE1,ndTE))\n",
    "\n",
    "\n",
    "# For each TE combination (choice of TE1 and dTE), generate signal, \n",
    "# add noise multiple times to obtain multiple noisy signal realizations, \n",
    "# and estimate R2* from each noisy signal realization \n",
    "for k1 in range(np.size(TE1s)):\n",
    "    for k2 in range(np.size(dTEs)):\n",
    "        \n",
    "        TE1 = TE1s[k1]*0.001\n",
    "        dTE = dTEs[k2]*0.001\n",
    "        nTE = 6\n",
    "        TE = np.linspace(TE1,TE1 + (nTE-1)*dTE,nTE)\n",
    "        myImDataParams = imDataParams(1.5, TE)\n",
    "        \n",
    "        # Set some true  R2* \n",
    "        true_R2star = 200\n",
    "        myTrueParams = trueParams(100., 0., true_R2star, 0.)\n",
    "        \n",
    "        s = create_signal(myImDataParams, myTrueParams );\n",
    "    \n",
    "        sigma = 15;\n",
    "        Npixels = 2000;\n",
    "    \n",
    "        r2est = np.zeros(Npixels)\n",
    "    \n",
    "        for k in range(Npixels):\n",
    "            sn = s +  stats.norm.rvs(0, sigma, size=(nTE)) + stats.norm.rvs(0, sigma, size=(nTE))*1j\n",
    "    \n",
    "            p0 = np.array([90.,40.])\n",
    "            try:\n",
    "                popt, pcov = curve_fit(create_signal_r2star, TE, abs(sn), p0);\n",
    "            except RuntimeError:\n",
    "                popt = p0\n",
    "            sfit = create_signal_r2star( TE, popt[0], popt[1])\n",
    "            r2est[k] = popt[1]\n",
    "\n",
    "        r2means[k1,k2] = np.mean(r2est)\n",
    "        r2stds[k1,k2] = np.sqrt(np.var(r2est))\n",
    "\n",
    "# Display the bias and the standard deviation in R2* estimates \n",
    "# as a function of TE combination             \n",
    "plt.figure(figsize=(20,7))\n",
    "plt.subplot(1,2,1)\n",
    "plt.imshow(np.abs(r2means-true_R2star),interpolation='bicubic', extent = [dTEs[0], dTEs[-1], TE1s[-1], TE1s[0] ], vmin=0, vmax=80);\n",
    "plt.xlabel('dTE (ms)');\n",
    "plt.ylabel('TE1 (ms)');\n",
    "plt.title('R2* mean absolute error (|bias|)' );\n",
    "plt.rc('font', **font)\n",
    "plt.subplot(1,2,2)\n",
    "plt.imshow(r2stds,interpolation='bicubic',extent = [dTEs[0], dTEs[-1], TE1s[-1], TE1s[0] ], vmin=20, vmax=80);\n",
    "plt.xlabel('dTE (ms)');\n",
    "plt.ylabel('TE1 (ms)');\n",
    "plt.title('R2* std deviation' );\n",
    "plt.rc('font', **font)\n",
    "\n"
   ]
  },
  {
   "cell_type": "code",
   "execution_count": null,
   "metadata": {},
   "outputs": [],
   "source": []
  }
 ],
 "metadata": {
  "kernelspec": {
   "display_name": "Python 3",
   "language": "python",
   "name": "python3"
  },
  "language_info": {
   "codemirror_mode": {
    "name": "ipython",
    "version": 3
   },
   "file_extension": ".py",
   "mimetype": "text/x-python",
   "name": "python",
   "nbconvert_exporter": "python",
   "pygments_lexer": "ipython3",
   "version": "3.7.6"
  }
 },
 "nbformat": 4,
 "nbformat_minor": 4
}
