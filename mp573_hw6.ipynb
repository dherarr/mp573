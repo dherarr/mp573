{
 "cells": [
  {
   "cell_type": "markdown",
   "metadata": {},
   "source": [
    "### MP/BME 573: Homework Set 6 / solutions"
   ]
  },
  {
   "cell_type": "code",
   "execution_count": 2,
   "metadata": {},
   "outputs": [],
   "source": [
    "## MP 573 HW6\n",
    "##\n",
    "%matplotlib inline\n",
    "import numpy as np\n",
    "import numpy.linalg as la\n",
    "import matplotlib.pyplot as plt\n",
    "from IPython.display import display, Image\n",
    "import matplotlib.image as mpimg\n",
    "from os.path import dirname, join as pjoin\n",
    "from scipy import signal\n",
    "import scipy.io as sio\n",
    "import scipy.optimize as opt\n",
    "import numpy.random as rnd\n",
    "\n",
    "font = {'weight' : 'normal',\n",
    "        'size'   : 20}"
   ]
  },
  {
   "cell_type": "markdown",
   "metadata": {},
   "source": [
    "## Problem 1E:\n",
    "\n",
    "Plot or draw the following sets for a two-dimensional vector $\\mathbf{x} \\in \\mathbb{R}^2$}\n",
    "\n",
    "i. $\\| \\mathbf{x} \\|_\\infty < 1$ (where $\\| \\mathbf{x} \\|_\\infty = \\max_n | x_n |$ \n",
    "\n",
    "ii. $\\| \\mathbf{x} \\|_2 < 1$ \n",
    "\n",
    "iii. $\\| \\mathbf{x} \\|_1 < 1$ \n",
    "\n",
    "iv. $\\| \\mathbf{x} \\|_{\\frac{1}{2}} < 1$ (not a norm, but we can define and plot the set \n",
    "using the expression $\\| \\mathbf{x} \\|_{\\frac{1}{2}} = \\left( \\sum_n  | x_n |^{1/2} \\right) ^2) $)\n",
    " "
   ]
  },
  {
   "cell_type": "code",
   "execution_count": 44,
   "metadata": {},
   "outputs": [
    {
     "data": {
      "image/png": "[encoded data removed]",
      "text/plain": [
       "<Figure size 1296x576 with 4 Axes>"
      ]
     },
     "metadata": {
      "needs_background": "light"
     },
     "output_type": "display_data"
    }
   ],
   "source": [
    "# Let's create these sets numerically\n",
    "N = 501\n",
    "xmax = 2\n",
    "xval = np.linspace(-xmax,xmax,N)\n",
    "X1,X2 = np.meshgrid(xval,-xval)\n",
    "\n",
    "# Show the four sets\n",
    "plt.figure(figsize=(18, 8)) \n",
    "plt.rc('font', **font)\n",
    "# First set (ell_infinity)\n",
    "plt.subplot(1,4,1)\n",
    "norm_infty = np.maximum(np.abs(X1),np.abs(X2))\n",
    "plt.imshow(norm_infty<1,extent=[-xmax,xmax,-xmax,xmax])\n",
    "plt.title('i: $\\|\\| \\mathbf{x} \\|\\|_{\\infty} < 1$')\n",
    "\n",
    "# Second set (ell_2)\n",
    "plt.subplot(1,4,2)\n",
    "norm_l2 = np.sqrt(X1**2 + X2**2)\n",
    "plt.imshow(norm_l2<1,extent=[-xmax,xmax,-xmax,xmax])\n",
    "plt.title('ii: $\\|\\| \\mathbf{x} \\|\\|_{2} < 1$')\n",
    "\n",
    "# Third set (ell_1)\n",
    "plt.subplot(1,4,3)\n",
    "norm_l1 = np.abs(X1) + np.abs(X2)\n",
    "plt.imshow(norm_l1<1,extent=[-xmax,xmax,-xmax,xmax])\n",
    "plt.title('iii: $\\|\\| \\mathbf{x} \\|\\|_{1} < 1$')\n",
    "\n",
    "# Fourth set (ell_half)\n",
    "plt.subplot(1,4,4)\n",
    "norm_lhalf = (np.sqrt(np.abs(X1)) + np.sqrt(np.abs(X2)))**2\n",
    "plt.imshow(norm_lhalf<1,extent=[-xmax,xmax,-xmax,xmax])\n",
    "plt.title('iv: $\\|\\| \\mathbf{x} \\|\\|_{1/2} < 1$');\n"
   ]
  },
  {
   "cell_type": "markdown",
   "metadata": {},
   "source": [
    "## Problem 5C: A specific example of ML and MAP estimation. \n",
    "\n",
    "\n",
    "Assuming that $\\sigma_1 = 1$, $\\sigma_2 = 1$, and:\n",
    "\\begin{equation}\n",
    "    \\mathbf{A} =\n",
    "  \\left[ {\\begin{array}{ccc}\n",
    "   1 & 1 & 0 \\\\\n",
    "   1 & 0 & 1 \\\\\n",
    "   0 & 1 & 1 \\\\\n",
    "    \\end{array} } \\right]\n",
    "\\end{equation}\n",
    "\\begin{equation}\n",
    "    \\mathbf{b} =\n",
    "  \\left[ {\\begin{array}{c}\n",
    "   3 \\\\\n",
    "   4 \\\\\n",
    "   5 \\\\\n",
    "    \\end{array} } \\right]\n",
    "\\end{equation}\n",
    "find the ML and MAP estimates $\\hat{\\mathbf{x}}_{ML}$ and $\\hat{\\mathbf{x}}_{MAP}$. \n",
    "\n",
    "Next, assume that the a priori distribution of $\\mathbf{x}$ is  `tighter', eg: $\\sigma_2 = 0.5$. What is the new value of  $\\hat{\\mathbf{x}}_{MAP}$? How about if $\\sigma_2 = 0.2$? Can you guess what is the limit of $\\hat{\\mathbf{x}}_{MAP}$ as $\\sigma_2 \\to 0$? \n",
    "\n",
    "\n",
    "Next, assume that the a priori distribution of $\\mathbf{x}$ is`broader', eg: $\\sigma_2 = 2$. What is the new value of  $\\hat{\\mathbf{x}}_{MAP}$? How about if $\\sigma_2 = 5$? Can you guess what is the limit of $\\hat{\\mathbf{x}}_{MAP}$ as $\\sigma_2 \\to \\infty$? \n"
   ]
  },
  {
   "cell_type": "code",
   "execution_count": 87,
   "metadata": {},
   "outputs": [
    {
     "name": "stdout",
     "output_type": "stream",
     "text": [
      "Maximum likelihood solution\n",
      "[[1.]\n",
      " [2.]\n",
      " [3.]]\n",
      "MAP solution\n",
      "[[1.1]\n",
      " [1.6]\n",
      " [2.1]]\n"
     ]
    }
   ],
   "source": [
    "A = np.array([[1, 1, 0], \n",
    "    [1, 0, 1],\n",
    "    [0, 1, 1]])\n",
    "\n",
    "b = np.array([[3], \n",
    "    [4],\n",
    "    [5]])\n",
    "\n",
    "# ML solution\n",
    "xML = la.lstsq(A,b,rcond=None)[0]\n",
    "print('Maximum likelihood solution')\n",
    "print(xML)\n",
    "\n",
    "# MAP solution (pick sigma1 and sigma2 as described in the problem)\n",
    "sigma1 = 1; sigma2=1;\n",
    "G = np.identity(3)\n",
    "A2 = np.concatenate((A,sigma1/sigma2*G),axis=0)\n",
    "b2 = np.concatenate((b,0*b),axis=0)\n",
    "xMAP = la.lstsq(A2,b2,rcond=None)[0]\n",
    "print('MAP solution')\n",
    "print(xMAP)\n",
    "\n",
    "\n"
   ]
  },
  {
   "cell_type": "code",
   "execution_count": null,
   "metadata": {},
   "outputs": [],
   "source": []
  }
 ],
 "metadata": {
  "kernelspec": {
   "display_name": "Python 3",
   "language": "python",
   "name": "python3"
  },
  "language_info": {
   "codemirror_mode": {
    "name": "ipython",
    "version": 3
   },
   "file_extension": ".py",
   "mimetype": "text/x-python",
   "name": "python",
   "nbconvert_exporter": "python",
   "pygments_lexer": "ipython3",
   "version": "3.7.6"
  }
 },
 "nbformat": 4,
 "nbformat_minor": 4
}
